{
 "cells": [
  {
   "cell_type": "markdown",
   "source": [
    "An all ones tensor"
   ],
   "metadata": {
    "collapsed": false
   },
   "id": "7ef8f91eed29f15e"
  },
  {
   "cell_type": "code",
   "execution_count": 1,
   "id": "initial_id",
   "metadata": {
    "collapsed": true,
    "ExecuteTime": {
     "end_time": "2023-12-08T17:20:01.616813Z",
     "start_time": "2023-12-08T17:19:52.807080Z"
    }
   },
   "outputs": [
    {
     "name": "stdout",
     "output_type": "stream",
     "text": [
      "tf.Tensor(\n",
      "[[1.]\n",
      " [1.]], shape=(2, 1), dtype=float32)\n"
     ]
    }
   ],
   "source": [
    "import tensorflow as tf\n",
    "x = tf.ones(shape = (2 , 1))\n",
    "print(x)"
   ]
  },
  {
   "cell_type": "code",
   "execution_count": 2,
   "outputs": [
    {
     "name": "stdout",
     "output_type": "stream",
     "text": [
      "tf.Tensor(\n",
      "[[-0.08539372]\n",
      " [-1.2094401 ]\n",
      " [-0.8758951 ]], shape=(3, 1), dtype=float32)\n"
     ]
    }
   ],
   "source": [
    "x = tf.random.normal(shape = (3, 1), mean = 0., stddev = 1.)\n",
    "print(x)"
   ],
   "metadata": {
    "collapsed": false,
    "ExecuteTime": {
     "end_time": "2023-12-08T17:21:20.461293Z",
     "start_time": "2023-12-08T17:21:20.451490Z"
    }
   },
   "id": "c786282a27c38dae"
  },
  {
   "cell_type": "markdown",
   "source": [
    "With numpy you can assign arrays, whereas with tensorflow that is not possible."
   ],
   "metadata": {
    "collapsed": false
   },
   "id": "2904a070f1670360"
  },
  {
   "cell_type": "code",
   "execution_count": 5,
   "outputs": [],
   "source": [
    "import numpy as np\n",
    "x = np.ones(shape=(2, 2))\n",
    "x[0, 0] = 0"
   ],
   "metadata": {
    "collapsed": false,
    "ExecuteTime": {
     "end_time": "2023-12-08T17:29:05.614828Z",
     "start_time": "2023-12-08T17:29:05.610527Z"
    }
   },
   "id": "603e414052f58bcf"
  },
  {
   "cell_type": "markdown",
   "source": [
    "To update a state in tensorflow, variables will be used."
   ],
   "metadata": {
    "collapsed": false
   },
   "id": "c13024b479e9d04f"
  },
  {
   "cell_type": "code",
   "execution_count": 6,
   "outputs": [
    {
     "name": "stdout",
     "output_type": "stream",
     "text": [
      "<tf.Variable 'Variable:0' shape=(3, 1) dtype=float32, numpy=\n",
      "array([[1.903623 ],\n",
      "       [0.6190442],\n",
      "       [1.3250747]], dtype=float32)>\n"
     ]
    }
   ],
   "source": [
    "v = tf.Variable(initial_value=tf.random.normal(shape = (3, 1)))\n",
    "print(v)"
   ],
   "metadata": {
    "collapsed": false,
    "ExecuteTime": {
     "end_time": "2023-12-08T17:31:48.251950Z",
     "start_time": "2023-12-08T17:31:48.241203Z"
    }
   },
   "id": "d95389c8d39fa392"
  },
  {
   "cell_type": "markdown",
   "source": [
    "Now this state can be moddified with ```assign```."
   ],
   "metadata": {
    "collapsed": false
   },
   "id": "b7083a8f5ef95c13"
  },
  {
   "cell_type": "code",
   "execution_count": 8,
   "outputs": [
    {
     "data": {
      "text/plain": "<tf.Variable 'UnreadVariable' shape=(3, 1) dtype=float32, numpy=\narray([[1.],\n       [1.],\n       [1.]], dtype=float32)>"
     },
     "execution_count": 8,
     "metadata": {},
     "output_type": "execute_result"
    }
   ],
   "source": [
    "v.assign(tf.ones((3, 1)))"
   ],
   "metadata": {
    "collapsed": false,
    "ExecuteTime": {
     "end_time": "2023-12-08T17:34:40.857991Z",
     "start_time": "2023-12-08T17:34:40.847793Z"
    }
   },
   "id": "770fb0d6e742aa92"
  },
  {
   "cell_type": "code",
   "execution_count": null,
   "outputs": [],
   "source": [],
   "metadata": {
    "collapsed": false
   },
   "id": "273cae5dc8e3794a"
  }
 ],
 "metadata": {
  "kernelspec": {
   "display_name": "Python 3",
   "language": "python",
   "name": "python3"
  },
  "language_info": {
   "codemirror_mode": {
    "name": "ipython",
    "version": 2
   },
   "file_extension": ".py",
   "mimetype": "text/x-python",
   "name": "python",
   "nbconvert_exporter": "python",
   "pygments_lexer": "ipython2",
   "version": "2.7.6"
  }
 },
 "nbformat": 4,
 "nbformat_minor": 5
}
