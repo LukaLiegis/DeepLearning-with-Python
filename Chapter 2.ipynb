{
 "cells": [
  {
   "cell_type": "markdown",
   "source": [
    "Loading MNIST dataset"
   ],
   "metadata": {
    "collapsed": false
   },
   "id": "3921bf8834aeba03"
  },
  {
   "cell_type": "code",
   "execution_count": 20,
   "id": "initial_id",
   "metadata": {
    "collapsed": true,
    "ExecuteTime": {
     "end_time": "2023-12-06T22:42:45.393068Z",
     "start_time": "2023-12-06T22:42:45.309936Z"
    }
   },
   "outputs": [],
   "source": [
    "from tensorflow.keras.datasets import mnist\n",
    "(train_images, train_labels), (test_images, test_labels) = mnist.load_data()"
   ]
  },
  {
   "cell_type": "code",
   "execution_count": 21,
   "outputs": [
    {
     "name": "stdout",
     "output_type": "stream",
     "text": [
      "The size of the train images is:  (60000, 28, 28)\n",
      "The train labels have length:  60000\n"
     ]
    }
   ],
   "source": [
    "print(\"The size of the train images is: \", train_images.shape)\n",
    "print(\"The train labels have length: \", len(train_labels))"
   ],
   "metadata": {
    "collapsed": false,
    "ExecuteTime": {
     "end_time": "2023-12-06T22:42:46.263459Z",
     "start_time": "2023-12-06T22:42:46.257366Z"
    }
   },
   "id": "2d8e0e033551a96"
  },
  {
   "cell_type": "markdown",
   "source": [
    "Network architecture"
   ],
   "metadata": {
    "collapsed": false
   },
   "id": "5693acf30c80cd01"
  },
  {
   "cell_type": "code",
   "execution_count": 22,
   "outputs": [],
   "source": [
    "from tensorflow import keras\n",
    "from tensorflow.keras import layers\n",
    "\n",
    "model = keras.Sequential([\n",
    "    layers.Dense(512, activation = \"relu\"),\n",
    "    layers.Dense(10, activation = \"softmax\")\n",
    "])"
   ],
   "metadata": {
    "collapsed": false,
    "ExecuteTime": {
     "end_time": "2023-12-06T22:42:47.554333Z",
     "start_time": "2023-12-06T22:42:47.551029Z"
    }
   },
   "id": "2e024915c7abf016"
  },
  {
   "cell_type": "markdown",
   "source": [
    "To make the model ready we need a couple more things:\n",
    "- Optimizer\n",
    "- Loss function\n",
    "- Metrics to monitor during training and testing"
   ],
   "metadata": {
    "collapsed": false
   },
   "id": "9cd8b6f5594beb60"
  },
  {
   "cell_type": "code",
   "execution_count": 23,
   "outputs": [],
   "source": [
    "model.compile(\n",
    "    optimizer = \"rmsprop\",\n",
    "    loss = \"sparse_categorical_crossentropy\",\n",
    "    metrics = [\"accuracy\"]\n",
    ")"
   ],
   "metadata": {
    "collapsed": false,
    "ExecuteTime": {
     "end_time": "2023-12-06T22:42:49.039861Z",
     "start_time": "2023-12-06T22:42:49.032715Z"
    }
   },
   "id": "12a39060e08c0414"
  },
  {
   "cell_type": "markdown",
   "source": [
    "Now one more step before training, the data needs to be reshaped and scaled."
   ],
   "metadata": {
    "collapsed": false
   },
   "id": "bf5ebe36b145f5df"
  },
  {
   "cell_type": "code",
   "execution_count": 24,
   "outputs": [],
   "source": [
    "train_images = train_images.reshape((60000, 28 * 28))\n",
    "train_images = train_images.astype(\"float32\") / 255\n",
    "test_images = test_images.reshape((10000, 28 * 28))\n",
    "test_images = test_images.astype(\"float32\") / 255"
   ],
   "metadata": {
    "collapsed": false,
    "ExecuteTime": {
     "end_time": "2023-12-06T22:42:50.520501Z",
     "start_time": "2023-12-06T22:42:50.472796Z"
    }
   },
   "id": "1ae0659b64ca7ec0"
  },
  {
   "cell_type": "markdown",
   "source": [
    "Now it is time to fit the model"
   ],
   "metadata": {
    "collapsed": false
   },
   "id": "1cf35086e8204602"
  },
  {
   "cell_type": "code",
   "execution_count": 25,
   "outputs": [
    {
     "name": "stdout",
     "output_type": "stream",
     "text": [
      "Epoch 1/5\n",
      "469/469 [==============================] - 1s 3ms/step - loss: 0.2566 - accuracy: 0.9255\n",
      "Epoch 2/5\n",
      "469/469 [==============================] - 1s 3ms/step - loss: 0.1042 - accuracy: 0.9690\n",
      "Epoch 3/5\n",
      "469/469 [==============================] - 1s 3ms/step - loss: 0.0699 - accuracy: 0.9790\n",
      "Epoch 4/5\n",
      "469/469 [==============================] - 1s 3ms/step - loss: 0.0500 - accuracy: 0.9847\n",
      "Epoch 5/5\n",
      "469/469 [==============================] - 1s 3ms/step - loss: 0.0373 - accuracy: 0.9886\n"
     ]
    },
    {
     "data": {
      "text/plain": "<keras.src.callbacks.History at 0x2c7bee210>"
     },
     "execution_count": 25,
     "metadata": {},
     "output_type": "execute_result"
    }
   ],
   "source": [
    "model.fit(train_images, train_labels, epochs=5, batch_size=128)"
   ],
   "metadata": {
    "collapsed": false,
    "ExecuteTime": {
     "end_time": "2023-12-06T22:42:58.803627Z",
     "start_time": "2023-12-06T22:42:52.610595Z"
    }
   },
   "id": "a91059e1b556b5b7"
  },
  {
   "cell_type": "code",
   "execution_count": 26,
   "outputs": [
    {
     "name": "stdout",
     "output_type": "stream",
     "text": [
      "1/1 [==============================] - 0s 22ms/step\n"
     ]
    },
    {
     "data": {
      "text/plain": "array([2.5549163e-08, 1.1779107e-09, 7.9683650e-06, 1.2305441e-04,\n       2.0945865e-11, 8.5674401e-08, 1.8532159e-13, 9.9986744e-01,\n       2.9178995e-07, 1.0877249e-06], dtype=float32)"
     },
     "execution_count": 26,
     "metadata": {},
     "output_type": "execute_result"
    }
   ],
   "source": [
    "test_digits = test_images[0:10]\n",
    "predictions = model.predict(test_digits)\n",
    "predictions[0]"
   ],
   "metadata": {
    "collapsed": false,
    "ExecuteTime": {
     "end_time": "2023-12-06T22:42:59.669025Z",
     "start_time": "2023-12-06T22:42:59.626120Z"
    }
   },
   "id": "2e182f3c8a11ef36"
  },
  {
   "cell_type": "code",
   "execution_count": 27,
   "outputs": [
    {
     "data": {
      "text/plain": "7"
     },
     "execution_count": 27,
     "metadata": {},
     "output_type": "execute_result"
    }
   ],
   "source": [
    "predictions[0].argmax()"
   ],
   "metadata": {
    "collapsed": false,
    "ExecuteTime": {
     "end_time": "2023-12-06T22:43:00.242509Z",
     "start_time": "2023-12-06T22:43:00.239290Z"
    }
   },
   "id": "99dc1ed874067484"
  },
  {
   "cell_type": "code",
   "execution_count": 28,
   "outputs": [
    {
     "data": {
      "text/plain": "0.99986744"
     },
     "execution_count": 28,
     "metadata": {},
     "output_type": "execute_result"
    }
   ],
   "source": [
    "predictions[0][7]"
   ],
   "metadata": {
    "collapsed": false,
    "ExecuteTime": {
     "end_time": "2023-12-06T22:43:00.982224Z",
     "start_time": "2023-12-06T22:43:00.979400Z"
    }
   },
   "id": "3d9bff0f2386d175"
  },
  {
   "cell_type": "code",
   "execution_count": 29,
   "outputs": [
    {
     "data": {
      "text/plain": "7"
     },
     "execution_count": 29,
     "metadata": {},
     "output_type": "execute_result"
    }
   ],
   "source": [
    "test_labels[0]"
   ],
   "metadata": {
    "collapsed": false,
    "ExecuteTime": {
     "end_time": "2023-12-06T22:43:01.885961Z",
     "start_time": "2023-12-06T22:43:01.883010Z"
    }
   },
   "id": "e7ebfbf902b8f108"
  },
  {
   "cell_type": "code",
   "execution_count": 30,
   "outputs": [
    {
     "name": "stdout",
     "output_type": "stream",
     "text": [
      "313/313 [==============================] - 0s 583us/step - loss: 0.0660 - accuracy: 0.9804\n",
      "Test accuracy: 0.980400025844574\n"
     ]
    }
   ],
   "source": [
    "test_loss, test_acc = model.evaluate(test_images, test_labels)\n",
    "print(f\"Test accuracy: {test_acc}\")"
   ],
   "metadata": {
    "collapsed": false,
    "ExecuteTime": {
     "end_time": "2023-12-06T22:43:02.844504Z",
     "start_time": "2023-12-06T22:43:02.595015Z"
    }
   },
   "id": "f6c47a3dd2df88de"
  },
  {
   "cell_type": "code",
   "execution_count": null,
   "outputs": [],
   "source": [],
   "metadata": {
    "collapsed": false,
    "ExecuteTime": {
     "start_time": "2023-12-06T22:41:46.678222Z"
    }
   },
   "id": "db2dc2f3a757fb04"
  }
 ],
 "metadata": {
  "kernelspec": {
   "display_name": "Python 3",
   "language": "python",
   "name": "python3"
  },
  "language_info": {
   "codemirror_mode": {
    "name": "ipython",
    "version": 2
   },
   "file_extension": ".py",
   "mimetype": "text/x-python",
   "name": "python",
   "nbconvert_exporter": "python",
   "pygments_lexer": "ipython2",
   "version": "2.7.6"
  }
 },
 "nbformat": 4,
 "nbformat_minor": 5
}
